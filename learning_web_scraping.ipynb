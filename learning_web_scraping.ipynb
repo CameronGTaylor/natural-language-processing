{
 "cells": [
  {
   "cell_type": "code",
   "execution_count": 1,
   "metadata": {},
   "outputs": [],
   "source": [
    "from requests import get\n",
    "from bs4 import BeautifulSoup\n",
    "import os"
   ]
  },
  {
   "cell_type": "code",
   "execution_count": 2,
   "metadata": {},
   "outputs": [],
   "source": [
    "url = 'https://codeup.com/codeups-data-science-career-accelerator-is-here/'\n",
    "headers = {'User-Agent': 'manual search'} \n",
    "response = get(url, headers=headers)\n"
   ]
  },
  {
   "cell_type": "code",
   "execution_count": 6,
   "metadata": {},
   "outputs": [],
   "source": [
    "soup = BeautifulSoup(response.content, 'html.parser')"
   ]
  },
  {
   "cell_type": "code",
   "execution_count": 9,
   "metadata": {},
   "outputs": [],
   "source": [
    "link = soup.select('div > div.jupiterx-post-content.clearfix > p:nth-child(2) > strong:nth-child(3) > a')"
   ]
  },
  {
   "cell_type": "code",
   "execution_count": 12,
   "metadata": {},
   "outputs": [
    {
     "data": {
      "text/plain": [
       "<a href=\"https://therivardreport.com/utsa-lands-70m-for-cybersecurity-center-school-of-data-science/\">UTSA invest $70 M for a Cybersecurity Center and School of Data Science.</a>"
      ]
     },
     "execution_count": 12,
     "metadata": {},
     "output_type": "execute_result"
    }
   ],
   "source": [
    "link[0]"
   ]
  },
  {
   "cell_type": "code",
   "execution_count": 14,
   "metadata": {},
   "outputs": [
    {
     "data": {
      "text/plain": [
       "'https://therivardreport.com/utsa-lands-70m-for-cybersecurity-center-school-of-data-science/'"
      ]
     },
     "execution_count": 14,
     "metadata": {},
     "output_type": "execute_result"
    }
   ],
   "source": [
    "link[0]['href']"
   ]
  },
  {
   "cell_type": "code",
   "execution_count": 15,
   "metadata": {},
   "outputs": [],
   "source": [
    "\n",
    "page = \"\"\"\n",
    "<html>\n",
    "    <head>\n",
    "        <title>This is the title of the page</title>\n",
    "    </head>\n",
    "    <body>\n",
    "        <heading>\n",
    "            <h1>Welcome to the blog!</h1>\n",
    "            <p>Blog is short for \"back-log\"</p>\n",
    "        </heading>\n",
    "        <main>\n",
    "            <h2>Read your way to insight!</h2>\n",
    "            <section id=\"posts\">\n",
    "                <article class=\"blog_post\">\n",
    "                    <h3>Hello World</h3>\n",
    "                    <p>This is the first post!</p>\n",
    "                </article>\n",
    "                <article class=\"blog_post\">\n",
    "                    <h3>HTML Is Awesome</h3>\n",
    "                    <p>It's the language and structure for the web!</p>\n",
    "                </article>\n",
    "                <article class=\"blog_post\">\n",
    "                    <h3>CSS Is Totally Rad</h3>\n",
    "                    <p>CSS Selectors are super powerful</p>\n",
    "                </article>\n",
    "            </section>\n",
    "        </main>\n",
    "        <footer>\n",
    "            <p>All rights reserved.</p>\n",
    "        </footer>\n",
    "    </body>\n",
    "</html>\n",
    "\"\"\""
   ]
  },
  {
   "cell_type": "code",
   "execution_count": 16,
   "metadata": {},
   "outputs": [
    {
     "data": {
      "text/plain": [
       "<title>This is the title of the page</title>"
      ]
     },
     "execution_count": 16,
     "metadata": {},
     "output_type": "execute_result"
    }
   ],
   "source": [
    "soup2 = BeautifulSoup(page)\n",
    "soup2.title\n"
   ]
  },
  {
   "cell_type": "code",
   "execution_count": 17,
   "metadata": {},
   "outputs": [
    {
     "data": {
      "text/plain": [
       "[<article class=\"blog_post\">\n",
       " <h3>Hello World</h3>\n",
       " <p>This is the first post!</p>\n",
       " </article>, <article class=\"blog_post\">\n",
       " <h3>HTML Is Awesome</h3>\n",
       " <p>It's the language and structure for the web!</p>\n",
       " </article>, <article class=\"blog_post\">\n",
       " <h3>CSS Is Totally Rad</h3>\n",
       " <p>CSS Selectors are super powerful</p>\n",
       " </article>]"
      ]
     },
     "execution_count": 17,
     "metadata": {},
     "output_type": "execute_result"
    }
   ],
   "source": [
    "soup2.select(\".blog_post\")"
   ]
  },
  {
   "cell_type": "code",
   "execution_count": 24,
   "metadata": {},
   "outputs": [
    {
     "data": {
      "text/plain": [
       "[<h3>Hello World</h3>, <h3>HTML Is Awesome</h3>, <h3>CSS Is Totally Rad</h3>]"
      ]
     },
     "execution_count": 24,
     "metadata": {},
     "output_type": "execute_result"
    }
   ],
   "source": [
    "soup2.select(\"h3\")"
   ]
  },
  {
   "cell_type": "code",
   "execution_count": null,
   "metadata": {},
   "outputs": [],
   "source": []
  }
 ],
 "metadata": {
  "kernelspec": {
   "display_name": "Python 3",
   "language": "python",
   "name": "python3"
  },
  "language_info": {
   "codemirror_mode": {
    "name": "ipython",
    "version": 3
   },
   "file_extension": ".py",
   "mimetype": "text/x-python",
   "name": "python",
   "nbconvert_exporter": "python",
   "pygments_lexer": "ipython3",
   "version": "3.7.4"
  }
 },
 "nbformat": 4,
 "nbformat_minor": 2
}
