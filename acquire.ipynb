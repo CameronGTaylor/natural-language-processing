{
 "cells": [
  {
   "cell_type": "code",
   "execution_count": 1,
   "metadata": {},
   "outputs": [],
   "source": [
    "import pandas as pd\n",
    "from requests import get\n",
    "from bs4 import BeautifulSoup\n",
    "import os\n",
    "import re"
   ]
  },
  {
   "cell_type": "code",
   "execution_count": 2,
   "metadata": {},
   "outputs": [],
   "source": [
    "url = 'https://codeup.com/codeups-data-science-career-accelerator-is-here/'\n",
    "headers = {'User-Agent': 'manual search'} \n",
    "response = get(url, headers=headers)\n",
    "soup = BeautifulSoup(response.content)"
   ]
  },
  {
   "cell_type": "code",
   "execution_count": 3,
   "metadata": {},
   "outputs": [],
   "source": [
    "title = soup.select('title')[0].text\n",
    "article = soup.select('div > div.jupiterx-post-content.clearfix')\n",
    "article = article[0].text\n",
    "article = article.replace('\\xa0', ' ')\n",
    "# article"
   ]
  },
  {
   "cell_type": "code",
   "execution_count": 4,
   "metadata": {},
   "outputs": [],
   "source": [
    "# dict({'title': title, 'content': article})"
   ]
  },
  {
   "cell_type": "code",
   "execution_count": 5,
   "metadata": {},
   "outputs": [],
   "source": [
    "urls = ['https://codeup.com/codeups-data-science-career-accelerator-is-here/',\n",
    "'https://codeup.com/data-science-myths/',\n",
    "'https://codeup.com/data-science-vs-data-analytics-whats-the-difference/',\n",
    "'https://codeup.com/10-tips-to-crush-it-at-the-sa-tech-job-fair/',\n",
    "'https://codeup.com/competitor-bootcamps-are-closing-is-the-model-in-danger/']"
   ]
  },
  {
   "cell_type": "code",
   "execution_count": 6,
   "metadata": {},
   "outputs": [],
   "source": [
    "def get_blog_articles(urls):\n",
    "    def get_blog_article(url):\n",
    "        headers = {'User-Agent': 'manual search'} \n",
    "        response = get(url, headers=headers)\n",
    "        soup = BeautifulSoup(response.content)\n",
    "        title = soup.select('title')[0].text\n",
    "        selection = 'div > div.jupiterx-post-content.clearfix'\n",
    "        article = soup.select(selection)\n",
    "        article = article[0].text.replace('\\xa0', ' ')\n",
    "        return dict({'title': title, 'content': article})\n",
    "    return [get_blog_article(url) for url in urls]"
   ]
  },
  {
   "cell_type": "code",
   "execution_count": 7,
   "metadata": {},
   "outputs": [
    {
     "data": {
      "text/plain": [
       "[{'title': 'Codeup’s Data Science Career Accelerator is Here! - Codeup',\n",
       "  'content': 'The rumors are true! The time has arrived. Codeup has officially opened applications to our new Data Science career accelerator, with only 25 seats available! This immersive program is one of a kind in San Antonio, and will help you land a job in Glassdoor’s #1 Best Job in America.Data Science is a method of providing actionable intelligence from data. The data revolution has hit San Antonio, resulting in an explosion in Data Scientist positions across companies like USAA, Accenture, Booz Allen Hamilton, and HEB. We’ve even seen UTSA invest $70 M for a Cybersecurity Center and School of Data Science. We built a program to specifically meet the growing demands of this industry.Our program will be 18 weeks long, full-time, hands-on, and project-based. Our curriculum development and instruction is led by Senior Data Scientist, Maggie Giust, who has worked at HEB, Capital Group, and Rackspace, along with input from dozens of practitioners and hiring partners. Students will work with real data sets, realistic problems, and the entire data science pipeline from collection to deployment. They will receive professional development training in resume writing, interviewing, and continuing education to prepare for a smooth transition to the workforce.We focus on applied data science for immediate impact and ROI in a business, which is how we can back it all up with a 6 month tuition refund guarantee – just like our existing Web Dev program. We’re focusing on Data Science with Python, SQL, and ML, covered in 14 modules: 1) Fundamentals; 2) Applied statistics; 3) SQL; 4) Python; 5) Supervised machine learning – regression; 6) Supervised machine learning – classification; 7) Unsupervised machine learning – clustering; 8) Time series analysis; 9) Anomaly detection; 10) Natural language processing; 11) Distributed machine learning; 12) Advanced topics (deep learning, NoSQL, cloud deployment, etc.); 13) Storytelling with data; and 14) Domain expertise development.Applications are now open for Codeup’s first Data Science cohort, which will start class on February 4, 2019. Hurry – there are only 25 seats available! To further our mission of cultivating inclusive growth, scholarships will be available to women, minorities, LGBTQIA+ individuals, veterans, first responders, and people relocating to San Antonio.If you want to learn about joining our program or hiring our graduates, email datascience@codeup.com!'},\n",
       " {'title': 'Data Science Myths - Codeup',\n",
       "  'content': 'By Dimitri Antoniou and Maggie GiustData Science, Big Data, Machine Learning, NLP, Neural Networks…these buzzwords have rapidly spread into mainstream use over the last few years. Unfortunately, definitions are varied and sources of truth are limited. Data Scientists are in fact not magical unicorn wizards who can snap their fingers and turn a business around! Today, we’ll take a cue from our favorite Mythbusters to tackle some common myths and misconceptions in the field of Data Science.via GIPHYMyth #1: Data Science = StatisticsAt first glance, this one doesn’t sound unreasonable. Statistics is defined as, “A branch of mathematics dealing with the collection, analysis, interpretation, and presentation of masses of numerical data.” That sounds a lot like our definition of Data Science: a method of drawing actionable intelligence from data. In truth, statistics is actually one small piece of Data Science. As our Senior Data Scientist puts it, “Statistics forces us to make assumptions about the nature of the relationship between variables, the distribution of the data, etc.” In the traditional Data Science venn diagram, you’ll see that math/stats make up ⅓ of a working professional. These are tools and skills to leverage, but data science itself is about drawing intelligence from data.BUSTED via GIPHY Myth #2: Data Scientist = Business/Data AnalystThis one is so common that we wrote a whole post about it! These are separate and different roles within the data field. While a data scientist will often do analytics, their spectrum of work is wider. A data analyst will use structured data to create dashboards and KPIs, while a Data Scientist deals with unstructured and messy data for a range of outputs. If they’re interested, business analysts will often progress to data scientists.BUSTEDvia GIPHY Myth #3: Data Science = Data ScienceThis one’s tricky, because it’s impossible to either confirm or bust! The ‘myth’ is that one person or company using the term Data Science is not necessarily the same as another person or company using the same term. Depending on organizational capacity, individual experience, educational background, and many other variables, we might be using the same name for different animals.Tl;dr: don’t assume a common understanding across hiring managers, recruiters, and practitioners. Look instead for specifics of tools, techniques, methodologies, and outputs. That being said, this one falls in the “plausible” category, because it may actually be true in some circumstances, while false in others.PLAUSIBLEvia GIPHY Myth #4: Data Science curricula are well-defined and consistent.We recommend checking this one out for yourself! A quick google search for bootcamps, master’s degree programs, and online courses will reveal that different organizations teach different things. There is no commonly accepted framework for teaching data science! Some focus more on the engineering, others focus more on machine learning, some think deep learning is foundational, and some prefer to use R. Our curriculum was built through employer interviews, practitioner interviews, market research, and company partnerships. But we’re based in San Antonio! A bootcamp in New York might follow the same process and end up with a different syllabus. Keep in mind, whatever your learning path, that there will be gaps in your learning. The most important thing is to recognize those gaps.BUSTEDvia GIPHY Myth #5: If I want to be a data scientist, I just need to learn Python or R.This one is common and dangerous! Just like statistics, programming languages like Python and R are tools. They’re just pieces of a larger puzzle! Knowing Python without understanding the data science pipeline is like knowing how to build a floor without having a floor plan. Of course, these are valuable technical skills that give you a leg up, but they’re second in importance to asking the right questions, knowing what tools to use when, and communicating your findings.BUSTEDvia GIPHYStill have questions? Reach out to us at (210) 802-7289 or DataScience@codeup.com! Want to learn more about Data Science? Check out our recent blog posts at tribucodeup.wpengine.com/blog. And of course, if data science gets you excited, get started with us today at tribucodeup.wpengine.com/apply![rev_slider alias=”footer”][/rev_slider]'},\n",
       " {'title': 'Data Science VS Data Analytics: What’s The Difference? - Codeup',\n",
       "  'content': 'By Dimitri AntoniouA week ago, Codeup launched our immersive Data Science career accelerator! With our first class kicking off in February and only 25 seats available, we’ve been answering a lot of questions from prospective students. One in particular has come up so many times we decided to dedicate a blog post to it. What is the difference between data science and data analytics?First, let’s define some of our terms! Take a look at this blog to understand what Data Science is. In short, it is a method of turning raw data into action, leading to a desired outcome. Big Data refers to data sets that are large and complex, usually exceeding the capacity of computers and normal processing power to deal with. Machine Learning is the process of ‘learning’ underlying patterns of data in order to automate the extraction of intelligence from that data.Now, let’s look at the data pipeline that data scientists work through to reach the actionable insights and outcomes we mentioned:We start by collecting data, which may come from social media channels, network logs, financials, employee records, or more.We then process that data into usable information stored in databases or streamed.Next, we look back on the history of that data to summarize, describe, and explain, turning the data into meaningful knowledge. Here we’re primarily using mathematics, statistics, and visualization methods.Now we convert that knowledge into intelligence, seeking to predict future events so that we can make decisions in the present. This is where practitioners will introduce mathematical/statistical modeling through machine learning to their data.Finally, we enable action by building automations, running tests, building visualizations, monitoring new data, etc.Data professionals work at different stages of the spectrum to move data through the pipeline. On the left, Big Data Engineers specialize in collecting, storing, and processing data, getting it from Data to Information. In the middle, analysts work to understand and convert that information to knowledge. Lastly, a Machine Learning Engineer utilizes machine learning algorithms to turn intelligence into action by building automations, visualizations, recommendations, and predictions.Data Scientists span multiple stages of this pipeline, from information to action. They will spend about 70% of their time wrangling data in the information stage. They will conduct statistical analysis to derive knowledge. Lastly, they predict future events and build automations using machine learning.For those technical folk out there, data science is to data engineering or machine learning engineering as full-stack development is to front-end or back-end development. For the non-technical folk, data science is the umbrella term that houses data analytics, machine learning, and other data professions.So what’s the biggest difference between a data analyst and a data scientist? Data scientists utilize computer programming and machine learning in addition to mathematics and statistics. Still have questions? Reach out to us at (210) 802-7289 or DataScience@codeup.com! Wondering which of Codeup’s programs is right for you? We’ve got you covered. And of course, if data science gets you excited, get started with us today at tribucodeup.wpengine.com/apply!'},\n",
       " {'title': '10 Tips to Crush It at the SA Tech Job Fair - Codeup',\n",
       "  'content': '10 Tips to Crush It at the SA Tech Job FairSA Tech Job FairThe third bi-annual San Antonio Tech Job Fair is just around the corner. Over 25 companies will be at The Jack Guenther Pavilion on April 10th, and they are hungry for new tech team members!At the job fair, companies want to quickly source a list of new talent leads. AKA they need to find qualified employees they can begin interviewing for jobs. Recruiters will represent their organization at tables with informational handouts and company swag. Your goal at a job fair is to set yourself apart from other candidates and ensure your name makes it to the top of those lead lists.Think of your interaction with the company as a mini screening interview. The company rep will subtly evaluate basic qualities like your professionalism, communication and interpersonal skills, work experience, and interest level in the organization. Job fairs are also an opportunity for you to gain information about companies that may not be easily accessible online.  At Codeup, we’re passionate about bridging the gap between talent and demand, so we’ve outlined 10 tips to ensure you bring your A-game and leave a lasting impression!10 Tips for Totally Crushing it at the SA Tech Job FairUse keywords to describe your skills, but don’t go overboard. You’ll probably be talking to a recruiter or talent acquisition specialist. As a technical candidate, recognize these individuals usually aren’t developers or network administrators. They know terms like “JavaScript” and “Apache,” but haven’t written a line of code or spun up a server, so don’t get too caught up in industry jargon.Research the companies ahead of time. Review the list of attending companies and make sure you know what the company does and whether or not they hire people in your desired role. Look up recent news on the company and mention it during your conversation.Define your own goals for the job fair. Are you searching for a specific type of role or company culture? What matters most in your job search? Are there companies you want to prioritize?  Develop a game plan and be intentional with your time.Prepare a stellar résumé. Bring about 20 copies of your résumé to the event, printed on nice paper. We won’t cover resume writing in this post, but there are a plethora of online resources you can consult. For job fairs, don’t worry about cover letters.Polish your online profiles. If recruiters have a copy of your resume, you can be sure they will stalk you online soon. Make sure your online presence is professional and appropriate. A good place to start is by Googling yourself. Update your LinkedIn, and clean up any social media profiles.Craft a 30-60 second elevator pitch. You may only have a few minutes with an employer. What will you say if they ask, “Tell me about yourself?” Consider structuring your pitch like this: Who you are + What you do + What your goals are + Why that matters to the company.Don’t show up in a t-shirt, but trade in your suit for something more chill. Always keep it professional, but remember: tech is typically more casual than other industries. You’ll likely feel out of place if you look like you belong on Wall St., so refer to this guide on dressing for tech interviews.Don’t forget the basics. Start and end each conversation with a firm handshake. Make eye contact while conversing. Smile! Thank the recruiter before you move on to the next table.Ask educated questions. Don’t waste valuable face time with recruiters by asking questions like, “What does [Insert Company here] do?” They hate that question! Instead, try some of these:What are the top 3-5 examples of knowledge, skills, and abilities you look for in candidates?What’s the best advice you have for someone who wants to work here?What is your interview process like?Are you hiring for any roles not currently listed on your websites?Follow up. Collect business cards from each table. The next day, send a short note expressing your interest in the company’s opportunities and thanking the recruiter for his or her time.RSVP for the SA Tech Job Fair taking place at the Jack Guenther Pavilion – September 18th starting at 4 pm. '},\n",
       " {'title': 'Competitor Bootcamps Are Closing. Is the Model in Danger? - Codeup',\n",
       "  'content': 'Competitor Bootcamps Are Closing. Is the Model in Danger? Is the programming bootcamp model in danger?In recent news, DevBootcamp and The Iron Yard announced that they are closing their doors. This is big news. DevBootcamp was the first programming bootcamp model and The Iron Yard is a national player with 15 campuses across the U.S. In both cases, the companies cited an unsustainable business model. Does that mean the boot-camp model is dead?tl;dr “Nope!”Bootcamps exist because traditional education models have failed to provide students job-ready skills for the 21st century. Students demand better employment options from their education. Employers demand skilled and job ready candidates. Big Education’s failure to meet those needs through traditional methods created the fertile ground for the new business model of the programming bootcamp.Education giant Kaplan and Apollo Education Group (owner of University of Phoenix) bought their way into this new educational model when they purchased The Iron Yard and DevBootcamp. They purchased their competition with the intent to scale up the model. Unfortunately, Big Education is too habituated to coming up short for students. They bought the upstarts that challenged them, tried making changes to run those bootcamps in the “Big Education” way, and, sadly, they’ve closed the doors when they realized that scaling education is more challenging when student outcomes truly matter.The bootcamp model is still new and there will be plenty consolidation, competition, and changes in the future. This model is based on actually being adaptive, innovative, and sustainable. And there’s always room for innovation.What we’ve learned at Codeup…Education is challenging to scale.Prioritizing quality over growth pays off.What we’re doing at Codeup…Higher standards in our application process are leading to better student outcomes.Our reputation and commitment to quality is opening new doors to previously uninterested/unreachable employers.In the beginning, the majority of Codeup graduates went to work with startups and small businesses. We’re now seeing a larger amount of our graduates place at medium to large sized businesses.Demand is growing and employers are learning that the results are in the graduates.Codeup’s model is sustainable, inclusive, and works.Call or contact us today to see how Codeup’s commitment to quality and approach to being a career accelerator can make a profound difference in your life.'}]"
      ]
     },
     "execution_count": 7,
     "metadata": {},
     "output_type": "execute_result"
    }
   ],
   "source": [
    "get_blog_articles(urls)"
   ]
  },
  {
   "cell_type": "code",
   "execution_count": 8,
   "metadata": {},
   "outputs": [],
   "source": [
    "url = 'https://inshorts.com/en/news/always-good-when-captain-backs-young-players-shubman-gill-on-virat-kohli-1590515195346'\n",
    "headers = {'User-Agent': 'manual search'} \n",
    "response = get(url, headers=headers)\n",
    "soup = BeautifulSoup(response.content, 'html.parser')"
   ]
  },
  {
   "cell_type": "code",
   "execution_count": 9,
   "metadata": {},
   "outputs": [
    {
     "data": {
      "text/plain": [
       "'Always good when captain backs young players: Shubman Gill on Virat Kohli'"
      ]
     },
     "execution_count": 9,
     "metadata": {},
     "output_type": "execute_result"
    }
   ],
   "source": [
    "title = soup.select('body > div.container > div > div.card-stack > div > div > div.news-card-title.news-right-box > a > span')[0].text\n",
    "title"
   ]
  },
  {
   "cell_type": "code",
   "execution_count": 10,
   "metadata": {},
   "outputs": [
    {
     "data": {
      "text/plain": [
       "'Talking about India captain Virat Kohli, batsman Shubman Gill said it\\'s always good for young players when the captain backs you. \"It\\'s definitely an advantage when your captain wants you to go all in and there\\'s no pressure. You won’t feel that there is 1% of your game that would be left when you are on the field,\" he added.'"
      ]
     },
     "execution_count": 10,
     "metadata": {},
     "output_type": "execute_result"
    }
   ],
   "source": [
    "selection = 'body > div.container > div > div.card-stack > div > div > div.news-card-content.news-right-box > div:nth-child(1)'\n",
    "article = soup.select(selection)\n",
    "article[0].text"
   ]
  },
  {
   "cell_type": "code",
   "execution_count": 11,
   "metadata": {},
   "outputs": [
    {
     "data": {
      "text/plain": [
       "'Anmol Sharma'"
      ]
     },
     "execution_count": 11,
     "metadata": {},
     "output_type": "execute_result"
    }
   ],
   "source": [
    "author = soup.select('body > div.container > div > div.card-stack > div > div > div.news-card-title.news-right-box > div > span.author')\n",
    "author[0].text"
   ]
  },
  {
   "cell_type": "code",
   "execution_count": 12,
   "metadata": {},
   "outputs": [
    {
     "data": {
      "text/plain": [
       "['https://inshorts.com/en/read/business',\n",
       " 'https://inshorts.com/en/read/sports',\n",
       " 'https://inshorts.com/en/read/technology',\n",
       " 'https://inshorts.com/en/read/entertainment']"
      ]
     },
     "execution_count": 12,
     "metadata": {},
     "output_type": "execute_result"
    }
   ],
   "source": [
    "pages = ['business', 'sports', 'technology', 'entertainment']\n",
    "category_urls = [('https://inshorts.com/en/read/') + page \\\n",
    "                 for page in pages]\n",
    "category_urls"
   ]
  },
  {
   "cell_type": "code",
   "execution_count": 13,
   "metadata": {},
   "outputs": [
    {
     "data": {
      "text/plain": [
       "'entertainment'"
      ]
     },
     "execution_count": 13,
     "metadata": {},
     "output_type": "execute_result"
    }
   ],
   "source": [
    "re.search(r'[a-z]+$', category_urls[3])[0]"
   ]
  },
  {
   "cell_type": "code",
   "execution_count": 14,
   "metadata": {},
   "outputs": [],
   "source": [
    "def get_inshorts_category_articles(url):\n",
    "    lm = pd.DataFrame()\n",
    "    headers = {'User-Agent': 'manual search'} \n",
    "    response = get(url, headers=headers)\n",
    "    soup = BeautifulSoup(response.content, 'html.parser')\n",
    "    for i in range(len(soup.select('span[itemprop=headline]'))):\n",
    "        lm=lm.append({\n",
    "            'title': soup.select('span[itemprop=headline]')[i].text, \n",
    "            'author': soup.select('span[class=author]')[i].text,\n",
    "            'article': soup.select('div[itemprop=articleBody]')[i].text,\n",
    "            'date': soup.select('span[clas=date]')[i].text, \n",
    "            'category': re.search(r'[a-z]+$', url)[0]},\n",
    "            ignore_index=True)\n",
    "    return lm"
   ]
  },
  {
   "cell_type": "code",
   "execution_count": 32,
   "metadata": {},
   "outputs": [],
   "source": [
    "business = get_inshorts_category_articles(\n",
    "    'https://inshorts.com/en/read/business')"
   ]
  },
  {
   "cell_type": "code",
   "execution_count": 35,
   "metadata": {},
   "outputs": [
    {
     "data": {
      "text/html": [
       "<div>\n",
       "<style scoped>\n",
       "    .dataframe tbody tr th:only-of-type {\n",
       "        vertical-align: middle;\n",
       "    }\n",
       "\n",
       "    .dataframe tbody tr th {\n",
       "        vertical-align: top;\n",
       "    }\n",
       "\n",
       "    .dataframe thead th {\n",
       "        text-align: right;\n",
       "    }\n",
       "</style>\n",
       "<table border=\"1\" class=\"dataframe\">\n",
       "  <thead>\n",
       "    <tr style=\"text-align: right;\">\n",
       "      <th></th>\n",
       "      <th>article</th>\n",
       "      <th>author</th>\n",
       "      <th>category</th>\n",
       "      <th>date</th>\n",
       "      <th>title</th>\n",
       "    </tr>\n",
       "  </thead>\n",
       "  <tbody>\n",
       "    <tr>\n",
       "      <th>0</th>\n",
       "      <td>Twitter's billionaire CEO Jack Dorsey has dona...</td>\n",
       "      <td>Pragya Swastik</td>\n",
       "      <td>business</td>\n",
       "      <td>27 May 2020,Wednesday</td>\n",
       "      <td>Twitter CEO donates $10M to project giving $1,...</td>\n",
       "    </tr>\n",
       "    <tr>\n",
       "      <th>1</th>\n",
       "      <td>US biotech company Novavax said it has started...</td>\n",
       "      <td>Pragya Swastik</td>\n",
       "      <td>business</td>\n",
       "      <td>26 May 2020,Tuesday</td>\n",
       "      <td>Firm whose stock surged 1000% in 2020 starts h...</td>\n",
       "    </tr>\n",
       "    <tr>\n",
       "      <th>2</th>\n",
       "      <td>Nokia on Tuesday said it suspended operations ...</td>\n",
       "      <td>Krishna Veera Vanamali</td>\n",
       "      <td>business</td>\n",
       "      <td>27 May 2020,Wednesday</td>\n",
       "      <td>Nokia shuts plant in Tamil Nadu after some emp...</td>\n",
       "    </tr>\n",
       "    <tr>\n",
       "      <th>3</th>\n",
       "      <td>Glenmark Pharmaceuticals on Tuesday said it wi...</td>\n",
       "      <td>Krishna Veera Vanamali</td>\n",
       "      <td>business</td>\n",
       "      <td>26 May 2020,Tuesday</td>\n",
       "      <td>Glenmark to start clinical trial to test poten...</td>\n",
       "    </tr>\n",
       "    <tr>\n",
       "      <th>4</th>\n",
       "      <td>India's economy is estimated to have grown at ...</td>\n",
       "      <td>Krishna Veera Vanamali</td>\n",
       "      <td>business</td>\n",
       "      <td>26 May 2020,Tuesday</td>\n",
       "      <td>India's economic growth seen at 1.2% in Q4 FY2...</td>\n",
       "    </tr>\n",
       "    <tr>\n",
       "      <th>5</th>\n",
       "      <td>Asia's richest person Mukesh Ambani's 25-year-...</td>\n",
       "      <td>Krishna Veera Vanamali</td>\n",
       "      <td>business</td>\n",
       "      <td>27 May 2020,Wednesday</td>\n",
       "      <td>25-year-old Anant Ambani joins $65 billion Jio...</td>\n",
       "    </tr>\n",
       "    <tr>\n",
       "      <th>6</th>\n",
       "      <td>The Reserve Bank of India has said that banks ...</td>\n",
       "      <td>Krishna Veera Vanamali</td>\n",
       "      <td>business</td>\n",
       "      <td>26 May 2020,Tuesday</td>\n",
       "      <td>No prohibition in giving bank accounts to cryp...</td>\n",
       "    </tr>\n",
       "    <tr>\n",
       "      <th>7</th>\n",
       "      <td>Global investment firm Franklin Templeton has ...</td>\n",
       "      <td>Krishna Veera Vanamali</td>\n",
       "      <td>business</td>\n",
       "      <td>27 May 2020,Wednesday</td>\n",
       "      <td>White woman calls police over black man in US,...</td>\n",
       "    </tr>\n",
       "    <tr>\n",
       "      <th>8</th>\n",
       "      <td>Ratings agency CRISIL has said that India's fo...</td>\n",
       "      <td>Dharna</td>\n",
       "      <td>business</td>\n",
       "      <td>26 May 2020,Tuesday</td>\n",
       "      <td>India is facing its worst recession in 2020-21...</td>\n",
       "    </tr>\n",
       "    <tr>\n",
       "      <th>9</th>\n",
       "      <td>India's largest software services company TCS ...</td>\n",
       "      <td>Dharna</td>\n",
       "      <td>business</td>\n",
       "      <td>27 May 2020,Wednesday</td>\n",
       "      <td>By 2025, only 25% of our staff will work from ...</td>\n",
       "    </tr>\n",
       "    <tr>\n",
       "      <th>10</th>\n",
       "      <td>Around 100 Tata Steel workers blocked the prem...</td>\n",
       "      <td>Krishna Veera Vanamali</td>\n",
       "      <td>business</td>\n",
       "      <td>26 May 2020,Tuesday</td>\n",
       "      <td>Tata Steel workers in Netherlands block plant'...</td>\n",
       "    </tr>\n",
       "    <tr>\n",
       "      <th>11</th>\n",
       "      <td>Mukesh Ambani-led Reliance Industries is plann...</td>\n",
       "      <td>Krishna Veera Vanamali</td>\n",
       "      <td>business</td>\n",
       "      <td>26 May 2020,Tuesday</td>\n",
       "      <td>Reliance plans overseas IPO of Facebook-backed...</td>\n",
       "    </tr>\n",
       "    <tr>\n",
       "      <th>12</th>\n",
       "      <td>The Ministry of Chemicals and Fertilisers has ...</td>\n",
       "      <td>Anushka Dixit</td>\n",
       "      <td>business</td>\n",
       "      <td>26 May 2020,Tuesday</td>\n",
       "      <td>Prices of N-95 masks down by up to 47% after i...</td>\n",
       "    </tr>\n",
       "    <tr>\n",
       "      <th>13</th>\n",
       "      <td>Baba Ramdev-led Patanjali Ayurved plans to rai...</td>\n",
       "      <td>Anushka Dixit</td>\n",
       "      <td>business</td>\n",
       "      <td>27 May 2020,Wednesday</td>\n",
       "      <td>Baba Ramdev's Patanjali to raise ₹250 cr via f...</td>\n",
       "    </tr>\n",
       "    <tr>\n",
       "      <th>14</th>\n",
       "      <td>MSME Minister Nitin Gadkari said that around ₹...</td>\n",
       "      <td>Krishna Veera Vanamali</td>\n",
       "      <td>business</td>\n",
       "      <td>27 May 2020,Wednesday</td>\n",
       "      <td>₹50 lakh cr needed to revive economy; states s...</td>\n",
       "    </tr>\n",
       "    <tr>\n",
       "      <th>15</th>\n",
       "      <td>IT Minister Ravi Shankar Prasad has said that ...</td>\n",
       "      <td>Krishna Veera Vanamali</td>\n",
       "      <td>business</td>\n",
       "      <td>26 May 2020,Tuesday</td>\n",
       "      <td>Foreign investment, tech welcome even as India...</td>\n",
       "    </tr>\n",
       "    <tr>\n",
       "      <th>16</th>\n",
       "      <td>Tencent Holdings is buying a 20% stake in Japa...</td>\n",
       "      <td>Kiran Khatri</td>\n",
       "      <td>business</td>\n",
       "      <td>26 May 2020,Tuesday</td>\n",
       "      <td>Tencent to be Japan's Marvelous' largest share...</td>\n",
       "    </tr>\n",
       "    <tr>\n",
       "      <th>17</th>\n",
       "      <td>Responding to Billionaire Richard Branson's Vi...</td>\n",
       "      <td>Kiran Khatri</td>\n",
       "      <td>business</td>\n",
       "      <td>27 May 2020,Wednesday</td>\n",
       "      <td>Took us 4 attempts with Falcon 1: Musk on Virg...</td>\n",
       "    </tr>\n",
       "    <tr>\n",
       "      <th>18</th>\n",
       "      <td>Facebook has renamed and rebranded 'Calibra', ...</td>\n",
       "      <td>Krishna Veera Vanamali</td>\n",
       "      <td>business</td>\n",
       "      <td>26 May 2020,Tuesday</td>\n",
       "      <td>Facebook renames cryptocurrency Libra's digita...</td>\n",
       "    </tr>\n",
       "    <tr>\n",
       "      <th>19</th>\n",
       "      <td>Amazon is in advanced talks to buy self-drivin...</td>\n",
       "      <td>Krishna Veera Vanamali</td>\n",
       "      <td>business</td>\n",
       "      <td>27 May 2020,Wednesday</td>\n",
       "      <td>Amazon in talks to buy self-driving tech start...</td>\n",
       "    </tr>\n",
       "    <tr>\n",
       "      <th>20</th>\n",
       "      <td>Hyundai Motor India has resumed operations in ...</td>\n",
       "      <td>Anushka Dixit</td>\n",
       "      <td>business</td>\n",
       "      <td>26 May 2020,Tuesday</td>\n",
       "      <td>Hyundai resumes operations in 806 sales outlet...</td>\n",
       "    </tr>\n",
       "    <tr>\n",
       "      <th>21</th>\n",
       "      <td>Indian banks may need to raise an additional $...</td>\n",
       "      <td>Anushka Dixit</td>\n",
       "      <td>business</td>\n",
       "      <td>27 May 2020,Wednesday</td>\n",
       "      <td>Indian banks may need $20 bn capital over next...</td>\n",
       "    </tr>\n",
       "    <tr>\n",
       "      <th>22</th>\n",
       "      <td>Bharti Telecom has sold 2.75% stake in Airtel ...</td>\n",
       "      <td>Anushka Dixit</td>\n",
       "      <td>business</td>\n",
       "      <td>26 May 2020,Tuesday</td>\n",
       "      <td>Bharti Telecom sells 2.75% stake in Airtel, ra...</td>\n",
       "    </tr>\n",
       "    <tr>\n",
       "      <th>23</th>\n",
       "      <td>Billionaire Anil Agarwal-led Vedanta has start...</td>\n",
       "      <td>Anushka Dixit</td>\n",
       "      <td>business</td>\n",
       "      <td>26 May 2020,Tuesday</td>\n",
       "      <td>Vedanta seeks shareholders approval for delist...</td>\n",
       "    </tr>\n",
       "    <tr>\n",
       "      <th>24</th>\n",
       "      <td>Yes Bank Founder Rana Kapoor used the bank as ...</td>\n",
       "      <td>Kiran Khatri</td>\n",
       "      <td>business</td>\n",
       "      <td>27 May 2020,Wednesday</td>\n",
       "      <td>Rana Kapoor used Yes Bank for illegal activiti...</td>\n",
       "    </tr>\n",
       "  </tbody>\n",
       "</table>\n",
       "</div>"
      ],
      "text/plain": [
       "                                              article                  author  \\\n",
       "0   Twitter's billionaire CEO Jack Dorsey has dona...          Pragya Swastik   \n",
       "1   US biotech company Novavax said it has started...          Pragya Swastik   \n",
       "2   Nokia on Tuesday said it suspended operations ...  Krishna Veera Vanamali   \n",
       "3   Glenmark Pharmaceuticals on Tuesday said it wi...  Krishna Veera Vanamali   \n",
       "4   India's economy is estimated to have grown at ...  Krishna Veera Vanamali   \n",
       "5   Asia's richest person Mukesh Ambani's 25-year-...  Krishna Veera Vanamali   \n",
       "6   The Reserve Bank of India has said that banks ...  Krishna Veera Vanamali   \n",
       "7   Global investment firm Franklin Templeton has ...  Krishna Veera Vanamali   \n",
       "8   Ratings agency CRISIL has said that India's fo...                  Dharna   \n",
       "9   India's largest software services company TCS ...                  Dharna   \n",
       "10  Around 100 Tata Steel workers blocked the prem...  Krishna Veera Vanamali   \n",
       "11  Mukesh Ambani-led Reliance Industries is plann...  Krishna Veera Vanamali   \n",
       "12  The Ministry of Chemicals and Fertilisers has ...           Anushka Dixit   \n",
       "13  Baba Ramdev-led Patanjali Ayurved plans to rai...           Anushka Dixit   \n",
       "14  MSME Minister Nitin Gadkari said that around ₹...  Krishna Veera Vanamali   \n",
       "15  IT Minister Ravi Shankar Prasad has said that ...  Krishna Veera Vanamali   \n",
       "16  Tencent Holdings is buying a 20% stake in Japa...            Kiran Khatri   \n",
       "17  Responding to Billionaire Richard Branson's Vi...            Kiran Khatri   \n",
       "18  Facebook has renamed and rebranded 'Calibra', ...  Krishna Veera Vanamali   \n",
       "19  Amazon is in advanced talks to buy self-drivin...  Krishna Veera Vanamali   \n",
       "20  Hyundai Motor India has resumed operations in ...           Anushka Dixit   \n",
       "21  Indian banks may need to raise an additional $...           Anushka Dixit   \n",
       "22  Bharti Telecom has sold 2.75% stake in Airtel ...           Anushka Dixit   \n",
       "23  Billionaire Anil Agarwal-led Vedanta has start...           Anushka Dixit   \n",
       "24  Yes Bank Founder Rana Kapoor used the bank as ...            Kiran Khatri   \n",
       "\n",
       "    category                   date  \\\n",
       "0   business  27 May 2020,Wednesday   \n",
       "1   business    26 May 2020,Tuesday   \n",
       "2   business  27 May 2020,Wednesday   \n",
       "3   business    26 May 2020,Tuesday   \n",
       "4   business    26 May 2020,Tuesday   \n",
       "5   business  27 May 2020,Wednesday   \n",
       "6   business    26 May 2020,Tuesday   \n",
       "7   business  27 May 2020,Wednesday   \n",
       "8   business    26 May 2020,Tuesday   \n",
       "9   business  27 May 2020,Wednesday   \n",
       "10  business    26 May 2020,Tuesday   \n",
       "11  business    26 May 2020,Tuesday   \n",
       "12  business    26 May 2020,Tuesday   \n",
       "13  business  27 May 2020,Wednesday   \n",
       "14  business  27 May 2020,Wednesday   \n",
       "15  business    26 May 2020,Tuesday   \n",
       "16  business    26 May 2020,Tuesday   \n",
       "17  business  27 May 2020,Wednesday   \n",
       "18  business    26 May 2020,Tuesday   \n",
       "19  business  27 May 2020,Wednesday   \n",
       "20  business    26 May 2020,Tuesday   \n",
       "21  business  27 May 2020,Wednesday   \n",
       "22  business    26 May 2020,Tuesday   \n",
       "23  business    26 May 2020,Tuesday   \n",
       "24  business  27 May 2020,Wednesday   \n",
       "\n",
       "                                                title  \n",
       "0   Twitter CEO donates $10M to project giving $1,...  \n",
       "1   Firm whose stock surged 1000% in 2020 starts h...  \n",
       "2   Nokia shuts plant in Tamil Nadu after some emp...  \n",
       "3   Glenmark to start clinical trial to test poten...  \n",
       "4   India's economic growth seen at 1.2% in Q4 FY2...  \n",
       "5   25-year-old Anant Ambani joins $65 billion Jio...  \n",
       "6   No prohibition in giving bank accounts to cryp...  \n",
       "7   White woman calls police over black man in US,...  \n",
       "8   India is facing its worst recession in 2020-21...  \n",
       "9   By 2025, only 25% of our staff will work from ...  \n",
       "10  Tata Steel workers in Netherlands block plant'...  \n",
       "11  Reliance plans overseas IPO of Facebook-backed...  \n",
       "12  Prices of N-95 masks down by up to 47% after i...  \n",
       "13  Baba Ramdev's Patanjali to raise ₹250 cr via f...  \n",
       "14  ₹50 lakh cr needed to revive economy; states s...  \n",
       "15  Foreign investment, tech welcome even as India...  \n",
       "16  Tencent to be Japan's Marvelous' largest share...  \n",
       "17  Took us 4 attempts with Falcon 1: Musk on Virg...  \n",
       "18  Facebook renames cryptocurrency Libra's digita...  \n",
       "19  Amazon in talks to buy self-driving tech start...  \n",
       "20  Hyundai resumes operations in 806 sales outlet...  \n",
       "21  Indian banks may need $20 bn capital over next...  \n",
       "22  Bharti Telecom sells 2.75% stake in Airtel, ra...  \n",
       "23  Vedanta seeks shareholders approval for delist...  \n",
       "24  Rana Kapoor used Yes Bank for illegal activiti...  "
      ]
     },
     "execution_count": 35,
     "metadata": {},
     "output_type": "execute_result"
    }
   ],
   "source": [
    "business"
   ]
  },
  {
   "cell_type": "code",
   "execution_count": 17,
   "metadata": {},
   "outputs": [],
   "source": [
    "def get_multiple_category_urls(categories):\n",
    "    df = pd.DataFrame()\n",
    "    category_urls = [('https://inshorts.com/en/read/') + category \\\n",
    "                 for category in categories]\n",
    "    for url in category_urls:\n",
    "        df = df.append(get_inshorts_category_articles(url))\n",
    "    return df"
   ]
  },
  {
   "cell_type": "code",
   "execution_count": 18,
   "metadata": {},
   "outputs": [],
   "source": [
    "df = get_multiple_category_urls(pages)"
   ]
  },
  {
   "cell_type": "code",
   "execution_count": 19,
   "metadata": {},
   "outputs": [
    {
     "data": {
      "text/plain": [
       "array(['Pragya Swastik', 'Krishna Veera Vanamali', 'Dharna',\n",
       "       'Anushka Dixit', 'Kiran Khatri', 'Anmol Sharma', 'Ankur Taliyan',\n",
       "       'Aishwarya', 'Daisy Mowke', 'Atul Mishra', 'Udit Gupta'],\n",
       "      dtype=object)"
      ]
     },
     "execution_count": 19,
     "metadata": {},
     "output_type": "execute_result"
    }
   ],
   "source": [
    "df.author.unique()"
   ]
  },
  {
   "cell_type": "code",
   "execution_count": 26,
   "metadata": {},
   "outputs": [
    {
     "data": {
      "text/html": [
       "<div>\n",
       "<style scoped>\n",
       "    .dataframe tbody tr th:only-of-type {\n",
       "        vertical-align: middle;\n",
       "    }\n",
       "\n",
       "    .dataframe tbody tr th {\n",
       "        vertical-align: top;\n",
       "    }\n",
       "\n",
       "    .dataframe thead th {\n",
       "        text-align: right;\n",
       "    }\n",
       "</style>\n",
       "<table border=\"1\" class=\"dataframe\">\n",
       "  <thead>\n",
       "    <tr style=\"text-align: right;\">\n",
       "      <th></th>\n",
       "      <th>article</th>\n",
       "      <th>author</th>\n",
       "      <th>category</th>\n",
       "      <th>date</th>\n",
       "      <th>title</th>\n",
       "    </tr>\n",
       "  </thead>\n",
       "  <tbody>\n",
       "    <tr>\n",
       "      <th>0</th>\n",
       "      <td>Twitter's billionaire CEO Jack Dorsey has dona...</td>\n",
       "      <td>Pragya Swastik</td>\n",
       "      <td>business</td>\n",
       "      <td>27 May 2020,Wednesday</td>\n",
       "      <td>Twitter CEO donates $10M to project giving $1,...</td>\n",
       "    </tr>\n",
       "    <tr>\n",
       "      <th>1</th>\n",
       "      <td>US biotech company Novavax said it has started...</td>\n",
       "      <td>Pragya Swastik</td>\n",
       "      <td>business</td>\n",
       "      <td>26 May 2020,Tuesday</td>\n",
       "      <td>Firm whose stock surged 1000% in 2020 starts h...</td>\n",
       "    </tr>\n",
       "    <tr>\n",
       "      <th>2</th>\n",
       "      <td>Nokia on Tuesday said it suspended operations ...</td>\n",
       "      <td>Krishna Veera Vanamali</td>\n",
       "      <td>business</td>\n",
       "      <td>27 May 2020,Wednesday</td>\n",
       "      <td>Nokia shuts plant in Tamil Nadu after some emp...</td>\n",
       "    </tr>\n",
       "    <tr>\n",
       "      <th>3</th>\n",
       "      <td>Glenmark Pharmaceuticals on Tuesday said it wi...</td>\n",
       "      <td>Krishna Veera Vanamali</td>\n",
       "      <td>business</td>\n",
       "      <td>26 May 2020,Tuesday</td>\n",
       "      <td>Glenmark to start clinical trial to test poten...</td>\n",
       "    </tr>\n",
       "    <tr>\n",
       "      <th>4</th>\n",
       "      <td>India's economy is estimated to have grown at ...</td>\n",
       "      <td>Krishna Veera Vanamali</td>\n",
       "      <td>business</td>\n",
       "      <td>26 May 2020,Tuesday</td>\n",
       "      <td>India's economic growth seen at 1.2% in Q4 FY2...</td>\n",
       "    </tr>\n",
       "    <tr>\n",
       "      <th>...</th>\n",
       "      <td>...</td>\n",
       "      <td>...</td>\n",
       "      <td>...</td>\n",
       "      <td>...</td>\n",
       "      <td>...</td>\n",
       "    </tr>\n",
       "    <tr>\n",
       "      <th>20</th>\n",
       "      <td>Shakti Kapoor has said his heart cries looking...</td>\n",
       "      <td>Atul Mishra</td>\n",
       "      <td>entertainment</td>\n",
       "      <td>27 May 2020,Wednesday</td>\n",
       "      <td>My heart cries looking at the condition of mig...</td>\n",
       "    </tr>\n",
       "    <tr>\n",
       "      <th>21</th>\n",
       "      <td>When asked if she has heard anything nasty bei...</td>\n",
       "      <td>Atul Mishra</td>\n",
       "      <td>entertainment</td>\n",
       "      <td>26 May 2020,Tuesday</td>\n",
       "      <td>I overcame that: Madhuri on being called 'very...</td>\n",
       "    </tr>\n",
       "    <tr>\n",
       "      <th>22</th>\n",
       "      <td>Actor Sonu Sood has launched a toll-free numbe...</td>\n",
       "      <td>Atul Mishra</td>\n",
       "      <td>entertainment</td>\n",
       "      <td>27 May 2020,Wednesday</td>\n",
       "      <td>Sonu Sood launches toll-free number to help mi...</td>\n",
       "    </tr>\n",
       "    <tr>\n",
       "      <th>23</th>\n",
       "      <td>Actor Karan Kundrra condoled the suicide of 25...</td>\n",
       "      <td>Atul Mishra</td>\n",
       "      <td>entertainment</td>\n",
       "      <td>27 May 2020,Wednesday</td>\n",
       "      <td>You were so young: Karan Kundrra condoles Prek...</td>\n",
       "    </tr>\n",
       "    <tr>\n",
       "      <th>24</th>\n",
       "      <td>Commenting on her wedding to actor Ali Fazal, ...</td>\n",
       "      <td>Udit Gupta</td>\n",
       "      <td>entertainment</td>\n",
       "      <td>27 May 2020,Wednesday</td>\n",
       "      <td>Will take a call when normalcy returns: Richa ...</td>\n",
       "    </tr>\n",
       "  </tbody>\n",
       "</table>\n",
       "<p>100 rows × 5 columns</p>\n",
       "</div>"
      ],
      "text/plain": [
       "                                              article                  author  \\\n",
       "0   Twitter's billionaire CEO Jack Dorsey has dona...          Pragya Swastik   \n",
       "1   US biotech company Novavax said it has started...          Pragya Swastik   \n",
       "2   Nokia on Tuesday said it suspended operations ...  Krishna Veera Vanamali   \n",
       "3   Glenmark Pharmaceuticals on Tuesday said it wi...  Krishna Veera Vanamali   \n",
       "4   India's economy is estimated to have grown at ...  Krishna Veera Vanamali   \n",
       "..                                                ...                     ...   \n",
       "20  Shakti Kapoor has said his heart cries looking...             Atul Mishra   \n",
       "21  When asked if she has heard anything nasty bei...             Atul Mishra   \n",
       "22  Actor Sonu Sood has launched a toll-free numbe...             Atul Mishra   \n",
       "23  Actor Karan Kundrra condoled the suicide of 25...             Atul Mishra   \n",
       "24  Commenting on her wedding to actor Ali Fazal, ...              Udit Gupta   \n",
       "\n",
       "         category                   date  \\\n",
       "0        business  27 May 2020,Wednesday   \n",
       "1        business    26 May 2020,Tuesday   \n",
       "2        business  27 May 2020,Wednesday   \n",
       "3        business    26 May 2020,Tuesday   \n",
       "4        business    26 May 2020,Tuesday   \n",
       "..            ...                    ...   \n",
       "20  entertainment  27 May 2020,Wednesday   \n",
       "21  entertainment    26 May 2020,Tuesday   \n",
       "22  entertainment  27 May 2020,Wednesday   \n",
       "23  entertainment  27 May 2020,Wednesday   \n",
       "24  entertainment  27 May 2020,Wednesday   \n",
       "\n",
       "                                                title  \n",
       "0   Twitter CEO donates $10M to project giving $1,...  \n",
       "1   Firm whose stock surged 1000% in 2020 starts h...  \n",
       "2   Nokia shuts plant in Tamil Nadu after some emp...  \n",
       "3   Glenmark to start clinical trial to test poten...  \n",
       "4   India's economic growth seen at 1.2% in Q4 FY2...  \n",
       "..                                                ...  \n",
       "20  My heart cries looking at the condition of mig...  \n",
       "21  I overcame that: Madhuri on being called 'very...  \n",
       "22  Sonu Sood launches toll-free number to help mi...  \n",
       "23  You were so young: Karan Kundrra condoles Prek...  \n",
       "24  Will take a call when normalcy returns: Richa ...  \n",
       "\n",
       "[100 rows x 5 columns]"
      ]
     },
     "execution_count": 26,
     "metadata": {},
     "output_type": "execute_result"
    }
   ],
   "source": [
    "df"
   ]
  },
  {
   "cell_type": "code",
   "execution_count": null,
   "metadata": {},
   "outputs": [],
   "source": []
  }
 ],
 "metadata": {
  "kernelspec": {
   "display_name": "Python 3",
   "language": "python",
   "name": "python3"
  },
  "language_info": {
   "codemirror_mode": {
    "name": "ipython",
    "version": 3
   },
   "file_extension": ".py",
   "mimetype": "text/x-python",
   "name": "python",
   "nbconvert_exporter": "python",
   "pygments_lexer": "ipython3",
   "version": "3.7.4"
  }
 },
 "nbformat": 4,
 "nbformat_minor": 2
}
