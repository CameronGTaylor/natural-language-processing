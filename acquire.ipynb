{
 "cells": [
  {
   "cell_type": "code",
   "execution_count": 1,
   "metadata": {},
   "outputs": [],
   "source": [
    "import pandas as pd\n",
    "from requests import get\n",
    "from bs4 import BeautifulSoup\n",
    "import os"
   ]
  },
  {
   "cell_type": "code",
   "execution_count": 2,
   "metadata": {},
   "outputs": [],
   "source": [
    "url = 'https://codeup.com/codeups-data-science-career-accelerator-is-here/'\n",
    "headers = {'User-Agent': 'manual search'} \n",
    "response = get(url, headers=headers)\n",
    "soup = BeautifulSoup(response.content)"
   ]
  },
  {
   "cell_type": "code",
   "execution_count": 3,
   "metadata": {},
   "outputs": [],
   "source": [
    "title = soup.select('title')[0].text\n",
    "article = soup.select('div > div.jupiterx-post-content.clearfix')\n",
    "article = article[0].text\n",
    "article = article.replace('\\xa0', ' ')\n",
    "# article"
   ]
  },
  {
   "cell_type": "code",
   "execution_count": 4,
   "metadata": {},
   "outputs": [],
   "source": [
    "# dict({'title': title, 'content': article})"
   ]
  },
  {
   "cell_type": "code",
   "execution_count": 5,
   "metadata": {},
   "outputs": [],
   "source": [
    "urls = ['https://codeup.com/codeups-data-science-career-accelerator-is-here/',\n",
    "'https://codeup.com/data-science-myths/',\n",
    "'https://codeup.com/data-science-vs-data-analytics-whats-the-difference/',\n",
    "'https://codeup.com/10-tips-to-crush-it-at-the-sa-tech-job-fair/',\n",
    "'https://codeup.com/competitor-bootcamps-are-closing-is-the-model-in-danger/']"
   ]
  },
  {
   "cell_type": "code",
   "execution_count": 6,
   "metadata": {},
   "outputs": [],
   "source": [
    "def get_blog_articles(urls):\n",
    "    def get_blog_article(url):\n",
    "        headers = {'User-Agent': 'manual search'} \n",
    "        response = get(url, headers=headers)\n",
    "        soup = BeautifulSoup(response.content)\n",
    "        title = soup.select('title')[0].text\n",
    "        selection = 'div > div.jupiterx-post-content.clearfix'\n",
    "        article = soup.select(selection)\n",
    "        article = article[0].text.replace('\\xa0', ' ')\n",
    "        return dict({'title': title, 'content': article})\n",
    "    return [get_blog_article(url) for url in urls]"
   ]
  },
  {
   "cell_type": "code",
   "execution_count": 7,
   "metadata": {},
   "outputs": [
    {
     "data": {
      "text/plain": [
       "[{'title': 'Codeup’s Data Science Career Accelerator is Here! - Codeup',\n",
       "  'content': 'The rumors are true! The time has arrived. Codeup has officially opened applications to our new Data Science career accelerator, with only 25 seats available! This immersive program is one of a kind in San Antonio, and will help you land a job in Glassdoor’s #1 Best Job in America.Data Science is a method of providing actionable intelligence from data. The data revolution has hit San Antonio, resulting in an explosion in Data Scientist positions across companies like USAA, Accenture, Booz Allen Hamilton, and HEB. We’ve even seen UTSA invest $70 M for a Cybersecurity Center and School of Data Science. We built a program to specifically meet the growing demands of this industry.Our program will be 18 weeks long, full-time, hands-on, and project-based. Our curriculum development and instruction is led by Senior Data Scientist, Maggie Giust, who has worked at HEB, Capital Group, and Rackspace, along with input from dozens of practitioners and hiring partners. Students will work with real data sets, realistic problems, and the entire data science pipeline from collection to deployment. They will receive professional development training in resume writing, interviewing, and continuing education to prepare for a smooth transition to the workforce.We focus on applied data science for immediate impact and ROI in a business, which is how we can back it all up with a 6 month tuition refund guarantee – just like our existing Web Dev program. We’re focusing on Data Science with Python, SQL, and ML, covered in 14 modules: 1) Fundamentals; 2) Applied statistics; 3) SQL; 4) Python; 5) Supervised machine learning – regression; 6) Supervised machine learning – classification; 7) Unsupervised machine learning – clustering; 8) Time series analysis; 9) Anomaly detection; 10) Natural language processing; 11) Distributed machine learning; 12) Advanced topics (deep learning, NoSQL, cloud deployment, etc.); 13) Storytelling with data; and 14) Domain expertise development.Applications are now open for Codeup’s first Data Science cohort, which will start class on February 4, 2019. Hurry – there are only 25 seats available! To further our mission of cultivating inclusive growth, scholarships will be available to women, minorities, LGBTQIA+ individuals, veterans, first responders, and people relocating to San Antonio.If you want to learn about joining our program or hiring our graduates, email datascience@codeup.com!'},\n",
       " {'title': 'Data Science Myths - Codeup',\n",
       "  'content': 'By Dimitri Antoniou and Maggie GiustData Science, Big Data, Machine Learning, NLP, Neural Networks…these buzzwords have rapidly spread into mainstream use over the last few years. Unfortunately, definitions are varied and sources of truth are limited. Data Scientists are in fact not magical unicorn wizards who can snap their fingers and turn a business around! Today, we’ll take a cue from our favorite Mythbusters to tackle some common myths and misconceptions in the field of Data Science.via GIPHYMyth #1: Data Science = StatisticsAt first glance, this one doesn’t sound unreasonable. Statistics is defined as, “A branch of mathematics dealing with the collection, analysis, interpretation, and presentation of masses of numerical data.” That sounds a lot like our definition of Data Science: a method of drawing actionable intelligence from data. In truth, statistics is actually one small piece of Data Science. As our Senior Data Scientist puts it, “Statistics forces us to make assumptions about the nature of the relationship between variables, the distribution of the data, etc.” In the traditional Data Science venn diagram, you’ll see that math/stats make up ⅓ of a working professional. These are tools and skills to leverage, but data science itself is about drawing intelligence from data.BUSTED via GIPHY Myth #2: Data Scientist = Business/Data AnalystThis one is so common that we wrote a whole post about it! These are separate and different roles within the data field. While a data scientist will often do analytics, their spectrum of work is wider. A data analyst will use structured data to create dashboards and KPIs, while a Data Scientist deals with unstructured and messy data for a range of outputs. If they’re interested, business analysts will often progress to data scientists.BUSTEDvia GIPHY Myth #3: Data Science = Data ScienceThis one’s tricky, because it’s impossible to either confirm or bust! The ‘myth’ is that one person or company using the term Data Science is not necessarily the same as another person or company using the same term. Depending on organizational capacity, individual experience, educational background, and many other variables, we might be using the same name for different animals.Tl;dr: don’t assume a common understanding across hiring managers, recruiters, and practitioners. Look instead for specifics of tools, techniques, methodologies, and outputs. That being said, this one falls in the “plausible” category, because it may actually be true in some circumstances, while false in others.PLAUSIBLEvia GIPHY Myth #4: Data Science curricula are well-defined and consistent.We recommend checking this one out for yourself! A quick google search for bootcamps, master’s degree programs, and online courses will reveal that different organizations teach different things. There is no commonly accepted framework for teaching data science! Some focus more on the engineering, others focus more on machine learning, some think deep learning is foundational, and some prefer to use R. Our curriculum was built through employer interviews, practitioner interviews, market research, and company partnerships. But we’re based in San Antonio! A bootcamp in New York might follow the same process and end up with a different syllabus. Keep in mind, whatever your learning path, that there will be gaps in your learning. The most important thing is to recognize those gaps.BUSTEDvia GIPHY Myth #5: If I want to be a data scientist, I just need to learn Python or R.This one is common and dangerous! Just like statistics, programming languages like Python and R are tools. They’re just pieces of a larger puzzle! Knowing Python without understanding the data science pipeline is like knowing how to build a floor without having a floor plan. Of course, these are valuable technical skills that give you a leg up, but they’re second in importance to asking the right questions, knowing what tools to use when, and communicating your findings.BUSTEDvia GIPHYStill have questions? Reach out to us at (210) 802-7289 or DataScience@codeup.com! Want to learn more about Data Science? Check out our recent blog posts at tribucodeup.wpengine.com/blog. And of course, if data science gets you excited, get started with us today at tribucodeup.wpengine.com/apply![rev_slider alias=”footer”][/rev_slider]'},\n",
       " {'title': 'Data Science VS Data Analytics: What’s The Difference? - Codeup',\n",
       "  'content': 'By Dimitri AntoniouA week ago, Codeup launched our immersive Data Science career accelerator! With our first class kicking off in February and only 25 seats available, we’ve been answering a lot of questions from prospective students. One in particular has come up so many times we decided to dedicate a blog post to it. What is the difference between data science and data analytics?First, let’s define some of our terms! Take a look at this blog to understand what Data Science is. In short, it is a method of turning raw data into action, leading to a desired outcome. Big Data refers to data sets that are large and complex, usually exceeding the capacity of computers and normal processing power to deal with. Machine Learning is the process of ‘learning’ underlying patterns of data in order to automate the extraction of intelligence from that data.Now, let’s look at the data pipeline that data scientists work through to reach the actionable insights and outcomes we mentioned:We start by collecting data, which may come from social media channels, network logs, financials, employee records, or more.We then process that data into usable information stored in databases or streamed.Next, we look back on the history of that data to summarize, describe, and explain, turning the data into meaningful knowledge. Here we’re primarily using mathematics, statistics, and visualization methods.Now we convert that knowledge into intelligence, seeking to predict future events so that we can make decisions in the present. This is where practitioners will introduce mathematical/statistical modeling through machine learning to their data.Finally, we enable action by building automations, running tests, building visualizations, monitoring new data, etc.Data professionals work at different stages of the spectrum to move data through the pipeline. On the left, Big Data Engineers specialize in collecting, storing, and processing data, getting it from Data to Information. In the middle, analysts work to understand and convert that information to knowledge. Lastly, a Machine Learning Engineer utilizes machine learning algorithms to turn intelligence into action by building automations, visualizations, recommendations, and predictions.Data Scientists span multiple stages of this pipeline, from information to action. They will spend about 70% of their time wrangling data in the information stage. They will conduct statistical analysis to derive knowledge. Lastly, they predict future events and build automations using machine learning.For those technical folk out there, data science is to data engineering or machine learning engineering as full-stack development is to front-end or back-end development. For the non-technical folk, data science is the umbrella term that houses data analytics, machine learning, and other data professions.So what’s the biggest difference between a data analyst and a data scientist? Data scientists utilize computer programming and machine learning in addition to mathematics and statistics. Still have questions? Reach out to us at (210) 802-7289 or DataScience@codeup.com! Wondering which of Codeup’s programs is right for you? We’ve got you covered. And of course, if data science gets you excited, get started with us today at tribucodeup.wpengine.com/apply!'},\n",
       " {'title': '10 Tips to Crush It at the SA Tech Job Fair - Codeup',\n",
       "  'content': '10 Tips to Crush It at the SA Tech Job FairSA Tech Job FairThe third bi-annual San Antonio Tech Job Fair is just around the corner. Over 25 companies will be at The Jack Guenther Pavilion on April 10th, and they are hungry for new tech team members!At the job fair, companies want to quickly source a list of new talent leads. AKA they need to find qualified employees they can begin interviewing for jobs. Recruiters will represent their organization at tables with informational handouts and company swag. Your goal at a job fair is to set yourself apart from other candidates and ensure your name makes it to the top of those lead lists.Think of your interaction with the company as a mini screening interview. The company rep will subtly evaluate basic qualities like your professionalism, communication and interpersonal skills, work experience, and interest level in the organization. Job fairs are also an opportunity for you to gain information about companies that may not be easily accessible online.  At Codeup, we’re passionate about bridging the gap between talent and demand, so we’ve outlined 10 tips to ensure you bring your A-game and leave a lasting impression!10 Tips for Totally Crushing it at the SA Tech Job FairUse keywords to describe your skills, but don’t go overboard. You’ll probably be talking to a recruiter or talent acquisition specialist. As a technical candidate, recognize these individuals usually aren’t developers or network administrators. They know terms like “JavaScript” and “Apache,” but haven’t written a line of code or spun up a server, so don’t get too caught up in industry jargon.Research the companies ahead of time. Review the list of attending companies and make sure you know what the company does and whether or not they hire people in your desired role. Look up recent news on the company and mention it during your conversation.Define your own goals for the job fair. Are you searching for a specific type of role or company culture? What matters most in your job search? Are there companies you want to prioritize?  Develop a game plan and be intentional with your time.Prepare a stellar résumé. Bring about 20 copies of your résumé to the event, printed on nice paper. We won’t cover resume writing in this post, but there are a plethora of online resources you can consult. For job fairs, don’t worry about cover letters.Polish your online profiles. If recruiters have a copy of your resume, you can be sure they will stalk you online soon. Make sure your online presence is professional and appropriate. A good place to start is by Googling yourself. Update your LinkedIn, and clean up any social media profiles.Craft a 30-60 second elevator pitch. You may only have a few minutes with an employer. What will you say if they ask, “Tell me about yourself?” Consider structuring your pitch like this: Who you are + What you do + What your goals are + Why that matters to the company.Don’t show up in a t-shirt, but trade in your suit for something more chill. Always keep it professional, but remember: tech is typically more casual than other industries. You’ll likely feel out of place if you look like you belong on Wall St., so refer to this guide on dressing for tech interviews.Don’t forget the basics. Start and end each conversation with a firm handshake. Make eye contact while conversing. Smile! Thank the recruiter before you move on to the next table.Ask educated questions. Don’t waste valuable face time with recruiters by asking questions like, “What does [Insert Company here] do?” They hate that question! Instead, try some of these:What are the top 3-5 examples of knowledge, skills, and abilities you look for in candidates?What’s the best advice you have for someone who wants to work here?What is your interview process like?Are you hiring for any roles not currently listed on your websites?Follow up. Collect business cards from each table. The next day, send a short note expressing your interest in the company’s opportunities and thanking the recruiter for his or her time.RSVP for the SA Tech Job Fair taking place at the Jack Guenther Pavilion – September 18th starting at 4 pm. '},\n",
       " {'title': 'Competitor Bootcamps Are Closing. Is the Model in Danger? - Codeup',\n",
       "  'content': 'Competitor Bootcamps Are Closing. Is the Model in Danger? Is the programming bootcamp model in danger?In recent news, DevBootcamp and The Iron Yard announced that they are closing their doors. This is big news. DevBootcamp was the first programming bootcamp model and The Iron Yard is a national player with 15 campuses across the U.S. In both cases, the companies cited an unsustainable business model. Does that mean the boot-camp model is dead?tl;dr “Nope!”Bootcamps exist because traditional education models have failed to provide students job-ready skills for the 21st century. Students demand better employment options from their education. Employers demand skilled and job ready candidates. Big Education’s failure to meet those needs through traditional methods created the fertile ground for the new business model of the programming bootcamp.Education giant Kaplan and Apollo Education Group (owner of University of Phoenix) bought their way into this new educational model when they purchased The Iron Yard and DevBootcamp. They purchased their competition with the intent to scale up the model. Unfortunately, Big Education is too habituated to coming up short for students. They bought the upstarts that challenged them, tried making changes to run those bootcamps in the “Big Education” way, and, sadly, they’ve closed the doors when they realized that scaling education is more challenging when student outcomes truly matter.The bootcamp model is still new and there will be plenty consolidation, competition, and changes in the future. This model is based on actually being adaptive, innovative, and sustainable. And there’s always room for innovation.What we’ve learned at Codeup…Education is challenging to scale.Prioritizing quality over growth pays off.What we’re doing at Codeup…Higher standards in our application process are leading to better student outcomes.Our reputation and commitment to quality is opening new doors to previously uninterested/unreachable employers.In the beginning, the majority of Codeup graduates went to work with startups and small businesses. We’re now seeing a larger amount of our graduates place at medium to large sized businesses.Demand is growing and employers are learning that the results are in the graduates.Codeup’s model is sustainable, inclusive, and works.Call or contact us today to see how Codeup’s commitment to quality and approach to being a career accelerator can make a profound difference in your life.'}]"
      ]
     },
     "execution_count": 7,
     "metadata": {},
     "output_type": "execute_result"
    }
   ],
   "source": [
    "get_blog_articles(urls)"
   ]
  },
  {
   "cell_type": "code",
   "execution_count": 8,
   "metadata": {},
   "outputs": [],
   "source": [
    "url = 'https://inshorts.com/en/news/always-good-when-captain-backs-young-players-shubman-gill-on-virat-kohli-1590515195346'\n",
    "headers = {'User-Agent': 'manual search'} \n",
    "response = get(url, headers=headers)\n",
    "soup = BeautifulSoup(response.content, 'html.parser')"
   ]
  },
  {
   "cell_type": "code",
   "execution_count": 9,
   "metadata": {},
   "outputs": [
    {
     "data": {
      "text/plain": [
       "'Always good when captain backs young players: Shubman Gill on Virat Kohli'"
      ]
     },
     "execution_count": 9,
     "metadata": {},
     "output_type": "execute_result"
    }
   ],
   "source": [
    "title = soup.select('body > div.container > div > div.card-stack > div > div > div.news-card-title.news-right-box > a > span')[0].text\n",
    "title"
   ]
  },
  {
   "cell_type": "code",
   "execution_count": 10,
   "metadata": {},
   "outputs": [
    {
     "data": {
      "text/plain": [
       "'Talking about India captain Virat Kohli, batsman Shubman Gill said it\\'s always good for young players when the captain backs you. \"It\\'s definitely an advantage when your captain wants you to go all in and there\\'s no pressure. You won’t feel that there is 1% of your game that would be left when you are on the field,\" he added.'"
      ]
     },
     "execution_count": 10,
     "metadata": {},
     "output_type": "execute_result"
    }
   ],
   "source": [
    "selection = 'body > div.container > div > div.card-stack > div > div > div.news-card-content.news-right-box > div:nth-child(1)'\n",
    "article = soup.select(selection)\n",
    "article[0].text"
   ]
  },
  {
   "cell_type": "code",
   "execution_count": 11,
   "metadata": {},
   "outputs": [
    {
     "data": {
      "text/plain": [
       "'Anmol Sharma'"
      ]
     },
     "execution_count": 11,
     "metadata": {},
     "output_type": "execute_result"
    }
   ],
   "source": [
    "author = soup.select('body > div.container > div > div.card-stack > div > div > div.news-card-title.news-right-box > div > span.author')\n",
    "author[0].text"
   ]
  },
  {
   "cell_type": "code",
   "execution_count": 12,
   "metadata": {},
   "outputs": [],
   "source": [
    "def get_inshorts_article(url):\n",
    "        headers = {'User-Agent': 'manual search'} \n",
    "        response = get(url, headers=headers)\n",
    "        soup = BeautifulSoup(response.content)\n",
    "        title = soup.select('body > div.container > div > div.card-stack > div > div > div.news-card-title.news-right-box > a > span')[0].text\n",
    "        article = soup.select('body > div.container > div > div.card-stack > div > div > div.news-card-content.news-right-box > div:nth-child(1)')[0].text\n",
    "        author = soup.select('body > div.container > div > div.card-stack > div > div > div.news-card-title.news-right-box > div > span.author')[0].text\n",
    "        return dict({'title': title, 'author': author, 'content': article})"
   ]
  },
  {
   "cell_type": "code",
   "execution_count": 13,
   "metadata": {},
   "outputs": [
    {
     "data": {
      "text/plain": [
       "{'title': 'Batsman should be given out as soon as the zing bails light up: Aakash Chopra',\n",
       " 'author': 'Anmol Sharma',\n",
       " 'content': 'Cricketer-turned-commentator Aakash Chopra has said a batsman should be given out as soon as the zing bails light up. He further said, \"The moment you see the light come on, give the batsman out. Because what is happening now is that these zing bails are very heavy and they don’t come off very easily [after being struck with ball].\"'}"
      ]
     },
     "execution_count": 13,
     "metadata": {},
     "output_type": "execute_result"
    }
   ],
   "source": [
    "get_inshorts_article('https://inshorts.com/en/news/batsman-should-be-given-out-as-soon-as-the-zing-bails-light-up-aakash-chopra-1590430412482')"
   ]
  },
  {
   "cell_type": "code",
   "execution_count": 14,
   "metadata": {},
   "outputs": [
    {
     "data": {
      "text/plain": [
       "{'title': \"Govt publicly releases source code of Aarogya Setu app's Android version\",\n",
       " 'author': 'Pragya Swastik',\n",
       " 'content': \"The government on Tuesday said it will publicly release the source code of the country's COVID-19 contact-tracing app Aarogya Setu's Android version at 12:00 am midnight. The government invited people to find any bugs or vulnerabilities in the app and report it to the government as it also launched a bug bounty program.\"}"
      ]
     },
     "execution_count": 14,
     "metadata": {},
     "output_type": "execute_result"
    }
   ],
   "source": [
    "get_inshorts_article('https://inshorts.com/en/news/govt-publicly-releases-source-code-of-aarogya-setu-apps-android-version-1590506052656')"
   ]
  },
  {
   "cell_type": "code",
   "execution_count": 15,
   "metadata": {},
   "outputs": [],
   "source": [
    "url = 'https://inshorts.com/en/read/national'\n",
    "headers = {'User-Agent': 'manual search'} \n",
    "response = get(url, headers=headers)\n",
    "soup = BeautifulSoup(response.content)"
   ]
  },
  {
   "cell_type": "code",
   "execution_count": 29,
   "metadata": {},
   "outputs": [],
   "source": [
    "body = soup.select('[content=\"\"]')\n",
    "content_urls = [body[i]['itemid'] for i in range(0,len(body))]"
   ]
  },
  {
   "cell_type": "code",
   "execution_count": 30,
   "metadata": {},
   "outputs": [
    {
     "data": {
      "text/html": [
       "<div>\n",
       "<style scoped>\n",
       "    .dataframe tbody tr th:only-of-type {\n",
       "        vertical-align: middle;\n",
       "    }\n",
       "\n",
       "    .dataframe tbody tr th {\n",
       "        vertical-align: top;\n",
       "    }\n",
       "\n",
       "    .dataframe thead th {\n",
       "        text-align: right;\n",
       "    }\n",
       "</style>\n",
       "<table border=\"1\" class=\"dataframe\">\n",
       "  <thead>\n",
       "    <tr style=\"text-align: right;\">\n",
       "      <th></th>\n",
       "      <th>title</th>\n",
       "      <th>author</th>\n",
       "      <th>content</th>\n",
       "    </tr>\n",
       "  </thead>\n",
       "  <tbody>\n",
       "    <tr>\n",
       "      <th>0</th>\n",
       "      <td>Nearly 100 coronavirus deaths reported in Maha...</td>\n",
       "      <td>Anmol Sharma</td>\n",
       "      <td>As many as 97 coronavirus patients were report...</td>\n",
       "    </tr>\n",
       "    <tr>\n",
       "      <th>1</th>\n",
       "      <td>69,818 people tested for coronavirus in Punjab...</td>\n",
       "      <td>Anmol Sharma</td>\n",
       "      <td>As many as 69,818 people have been tested for ...</td>\n",
       "    </tr>\n",
       "    <tr>\n",
       "      <th>2</th>\n",
       "      <td>Coronavirus cases in Rajasthan cross 7,500, de...</td>\n",
       "      <td>Apaar Sharma</td>\n",
       "      <td>Rajasthan on Tuesday reported 236 cases of cor...</td>\n",
       "    </tr>\n",
       "    <tr>\n",
       "      <th>3</th>\n",
       "      <td>Gurugram reports 33 new coronavirus cases, tot...</td>\n",
       "      <td>Apaar Sharma</td>\n",
       "      <td>Haryana's Gurugram reported 33 new coronavirus...</td>\n",
       "    </tr>\n",
       "    <tr>\n",
       "      <th>4</th>\n",
       "      <td>Passenger on Chennai-Coimbatore flight tests c...</td>\n",
       "      <td>Anmol Sharma</td>\n",
       "      <td>A passenger who travelled from Chennai to Coim...</td>\n",
       "    </tr>\n",
       "    <tr>\n",
       "      <th>5</th>\n",
       "      <td>Tamil Nadu coronavirus cases rise to 17,728; d...</td>\n",
       "      <td>Sakshita Khosla</td>\n",
       "      <td>Tamil Nadu has recorded 646 coronavirus cases ...</td>\n",
       "    </tr>\n",
       "    <tr>\n",
       "      <th>6</th>\n",
       "      <td>India only nation where virus is rising and we...</td>\n",
       "      <td>Apaar Sharma</td>\n",
       "      <td>Congress leader Rahul Gandhi on Tuesday said t...</td>\n",
       "    </tr>\n",
       "    <tr>\n",
       "      <th>7</th>\n",
       "      <td>Who is Himanshu Raj, the Bihar Board Class 10 ...</td>\n",
       "      <td>Pragya Swastik</td>\n",
       "      <td>Himanshu Raj from a remote village in Bihar's ...</td>\n",
       "    </tr>\n",
       "    <tr>\n",
       "      <th>8</th>\n",
       "      <td>Coronavirus cases in West Bengal cross 4,000; ...</td>\n",
       "      <td>Sakshita Khosla</td>\n",
       "      <td>West Bengal has recorded 193 new coronavirus c...</td>\n",
       "    </tr>\n",
       "    <tr>\n",
       "      <th>9</th>\n",
       "      <td>COVID-19 cases rise to 2,283 in Karnataka; 748...</td>\n",
       "      <td>Kiran Khatri</td>\n",
       "      <td>Karnataka reported 101 new coronavirus cases, ...</td>\n",
       "    </tr>\n",
       "    <tr>\n",
       "      <th>10</th>\n",
       "      <td>Air India security staff member onboard Delhi-...</td>\n",
       "      <td>Anmol Sharma</td>\n",
       "      <td>A 50-year-old man, who is a member of security...</td>\n",
       "    </tr>\n",
       "    <tr>\n",
       "      <th>11</th>\n",
       "      <td>Govt publicly releases source code of Aarogya ...</td>\n",
       "      <td>Pragya Swastik</td>\n",
       "      <td>The government on Tuesday said it will publicl...</td>\n",
       "    </tr>\n",
       "    <tr>\n",
       "      <th>12</th>\n",
       "      <td>Lockdown in India a success, Rahul making wron...</td>\n",
       "      <td>Sakshita Khosla</td>\n",
       "      <td>Union Minister Prakash Javadekar on Tuesday cr...</td>\n",
       "    </tr>\n",
       "    <tr>\n",
       "      <th>13</th>\n",
       "      <td>We're not trying to topple Maha govt, it'll fa...</td>\n",
       "      <td>Apaar Sharma</td>\n",
       "      <td>BJP leader and former Maharashtra CM Devendra ...</td>\n",
       "    </tr>\n",
       "    <tr>\n",
       "      <th>14</th>\n",
       "      <td>Large number of bats found dead in UP orchard,...</td>\n",
       "      <td>Arshiya Chopra</td>\n",
       "      <td>A large number of bats were found dead in Utta...</td>\n",
       "    </tr>\n",
       "    <tr>\n",
       "      <th>15</th>\n",
       "      <td>Man kills live-in partner and stuffs her body ...</td>\n",
       "      <td>Arshiya Chopra</td>\n",
       "      <td>A 26-year-old man allegedly murdered his 23-ye...</td>\n",
       "    </tr>\n",
       "    <tr>\n",
       "      <th>16</th>\n",
       "      <td>Heavy rain in NE India from May 26, red alert ...</td>\n",
       "      <td>Sakshita Khosla</td>\n",
       "      <td>India Meteorological Department (IMD) has pred...</td>\n",
       "    </tr>\n",
       "    <tr>\n",
       "      <th>17</th>\n",
       "      <td>Our Army will fight if needed: Nepal amid bord...</td>\n",
       "      <td>Nandini Sinha</td>\n",
       "      <td>Amid the ongoing border dispute with India, Ne...</td>\n",
       "    </tr>\n",
       "    <tr>\n",
       "      <th>18</th>\n",
       "      <td>Muslim youths in Maharashtra perform Hindu man...</td>\n",
       "      <td>Sakshita Khosla</td>\n",
       "      <td>Some Muslim youths from a local organisation l...</td>\n",
       "    </tr>\n",
       "    <tr>\n",
       "      <th>19</th>\n",
       "      <td>Haven't arrested anyone in case against Tablig...</td>\n",
       "      <td>Sakshita Khosla</td>\n",
       "      <td>Delhi Police on Tuesday the told High Court th...</td>\n",
       "    </tr>\n",
       "    <tr>\n",
       "      <th>20</th>\n",
       "      <td>Churu records highest temperature at 50℃, Pala...</td>\n",
       "      <td>Pragya Swastik</td>\n",
       "      <td>Rajasthan's Churu recorded the country's highe...</td>\n",
       "    </tr>\n",
       "    <tr>\n",
       "      <th>21</th>\n",
       "      <td>Aarogya Setu predicted 3,000 hotspots 3-17 day...</td>\n",
       "      <td>Aishwarya</td>\n",
       "      <td>NITI Aayog CEO Amitabh Kant revealed Aarogya S...</td>\n",
       "    </tr>\n",
       "    <tr>\n",
       "      <th>22</th>\n",
       "      <td>BJP to hold virtual rallies to mark 1 year of ...</td>\n",
       "      <td>Kiran Khatri</td>\n",
       "      <td>The BJP will hold virtual rallies and organise...</td>\n",
       "    </tr>\n",
       "    <tr>\n",
       "      <th>23</th>\n",
       "      <td>SC grants LG Polymers restricted access to Viz...</td>\n",
       "      <td>Kiran Khatri</td>\n",
       "      <td>The Supreme Court has allowed LG Polymers rest...</td>\n",
       "    </tr>\n",
       "    <tr>\n",
       "      <th>24</th>\n",
       "      <td>Floods in Assam affect over 30,000 people in 5...</td>\n",
       "      <td>Kiran Khatri</td>\n",
       "      <td>Over 30,000 people in five out of 33 districts...</td>\n",
       "    </tr>\n",
       "  </tbody>\n",
       "</table>\n",
       "</div>"
      ],
      "text/plain": [
       "                                                title           author  \\\n",
       "0   Nearly 100 coronavirus deaths reported in Maha...     Anmol Sharma   \n",
       "1   69,818 people tested for coronavirus in Punjab...     Anmol Sharma   \n",
       "2   Coronavirus cases in Rajasthan cross 7,500, de...     Apaar Sharma   \n",
       "3   Gurugram reports 33 new coronavirus cases, tot...     Apaar Sharma   \n",
       "4   Passenger on Chennai-Coimbatore flight tests c...     Anmol Sharma   \n",
       "5   Tamil Nadu coronavirus cases rise to 17,728; d...  Sakshita Khosla   \n",
       "6   India only nation where virus is rising and we...     Apaar Sharma   \n",
       "7   Who is Himanshu Raj, the Bihar Board Class 10 ...   Pragya Swastik   \n",
       "8   Coronavirus cases in West Bengal cross 4,000; ...  Sakshita Khosla   \n",
       "9   COVID-19 cases rise to 2,283 in Karnataka; 748...     Kiran Khatri   \n",
       "10  Air India security staff member onboard Delhi-...     Anmol Sharma   \n",
       "11  Govt publicly releases source code of Aarogya ...   Pragya Swastik   \n",
       "12  Lockdown in India a success, Rahul making wron...  Sakshita Khosla   \n",
       "13  We're not trying to topple Maha govt, it'll fa...     Apaar Sharma   \n",
       "14  Large number of bats found dead in UP orchard,...   Arshiya Chopra   \n",
       "15  Man kills live-in partner and stuffs her body ...   Arshiya Chopra   \n",
       "16  Heavy rain in NE India from May 26, red alert ...  Sakshita Khosla   \n",
       "17  Our Army will fight if needed: Nepal amid bord...    Nandini Sinha   \n",
       "18  Muslim youths in Maharashtra perform Hindu man...  Sakshita Khosla   \n",
       "19  Haven't arrested anyone in case against Tablig...  Sakshita Khosla   \n",
       "20  Churu records highest temperature at 50℃, Pala...   Pragya Swastik   \n",
       "21  Aarogya Setu predicted 3,000 hotspots 3-17 day...        Aishwarya   \n",
       "22  BJP to hold virtual rallies to mark 1 year of ...     Kiran Khatri   \n",
       "23  SC grants LG Polymers restricted access to Viz...     Kiran Khatri   \n",
       "24  Floods in Assam affect over 30,000 people in 5...     Kiran Khatri   \n",
       "\n",
       "                                              content  \n",
       "0   As many as 97 coronavirus patients were report...  \n",
       "1   As many as 69,818 people have been tested for ...  \n",
       "2   Rajasthan on Tuesday reported 236 cases of cor...  \n",
       "3   Haryana's Gurugram reported 33 new coronavirus...  \n",
       "4   A passenger who travelled from Chennai to Coim...  \n",
       "5   Tamil Nadu has recorded 646 coronavirus cases ...  \n",
       "6   Congress leader Rahul Gandhi on Tuesday said t...  \n",
       "7   Himanshu Raj from a remote village in Bihar's ...  \n",
       "8   West Bengal has recorded 193 new coronavirus c...  \n",
       "9   Karnataka reported 101 new coronavirus cases, ...  \n",
       "10  A 50-year-old man, who is a member of security...  \n",
       "11  The government on Tuesday said it will publicl...  \n",
       "12  Union Minister Prakash Javadekar on Tuesday cr...  \n",
       "13  BJP leader and former Maharashtra CM Devendra ...  \n",
       "14  A large number of bats were found dead in Utta...  \n",
       "15  A 26-year-old man allegedly murdered his 23-ye...  \n",
       "16  India Meteorological Department (IMD) has pred...  \n",
       "17  Amid the ongoing border dispute with India, Ne...  \n",
       "18  Some Muslim youths from a local organisation l...  \n",
       "19  Delhi Police on Tuesday the told High Court th...  \n",
       "20  Rajasthan's Churu recorded the country's highe...  \n",
       "21  NITI Aayog CEO Amitabh Kant revealed Aarogya S...  \n",
       "22  The BJP will hold virtual rallies and organise...  \n",
       "23  The Supreme Court has allowed LG Polymers rest...  \n",
       "24  Over 30,000 people in five out of 33 districts...  "
      ]
     },
     "execution_count": 30,
     "metadata": {},
     "output_type": "execute_result"
    }
   ],
   "source": [
    "df = pd.DataFrame()\n",
    "total = [get_inshorts_article(url) for url in content_urls]\n",
    "df.append(total)"
   ]
  },
  {
   "cell_type": "code",
   "execution_count": 26,
   "metadata": {},
   "outputs": [],
   "source": [
    "pages = ['business', 'sports', 'technology', 'entertainment']\n",
    "category_urls = [('https://inshorts.com/en/read/') + page \\\n",
    "                 for page in pages]"
   ]
  },
  {
   "cell_type": "code",
   "execution_count": 27,
   "metadata": {},
   "outputs": [
    {
     "data": {
      "text/plain": [
       "['https://inshorts.com/en/read/business',\n",
       " 'https://inshorts.com/en/read/sports',\n",
       " 'https://inshorts.com/en/read/technology',\n",
       " 'https://inshorts.com/en/read/entertainment']"
      ]
     },
     "execution_count": 27,
     "metadata": {},
     "output_type": "execute_result"
    }
   ],
   "source": [
    "category_urls"
   ]
  },
  {
   "cell_type": "code",
   "execution_count": 49,
   "metadata": {},
   "outputs": [],
   "source": [
    "def get_all_inshorts(category_urls):\n",
    "    df = pd.DataFrame()\n",
    "    for url in category_urls:\n",
    "        url = url\n",
    "        headers = {'User-Agent': 'manual search'} \n",
    "        response = get(url, headers=headers)\n",
    "        soup = BeautifulSoup(response.content)\n",
    "        body = soup.select('[content=\"\"]')\n",
    "        content_urls=[body[i]['itemid'] for i in range(0,len(body))]\n",
    "        total = [get_inshorts_article(url) for url in content_urls]\n",
    "        print(0)\n",
    "        df.append(total)\n",
    "    return df"
   ]
  },
  {
   "cell_type": "code",
   "execution_count": 50,
   "metadata": {},
   "outputs": [],
   "source": [
    "# get_all_inshorts(category_urls)"
   ]
  },
  {
   "cell_type": "code",
   "execution_count": 51,
   "metadata": {},
   "outputs": [
    {
     "name": "stdout",
     "output_type": "stream",
     "text": [
      "0\n",
      "0\n"
     ]
    },
    {
     "data": {
      "text/html": [
       "<div>\n",
       "<style scoped>\n",
       "    .dataframe tbody tr th:only-of-type {\n",
       "        vertical-align: middle;\n",
       "    }\n",
       "\n",
       "    .dataframe tbody tr th {\n",
       "        vertical-align: top;\n",
       "    }\n",
       "\n",
       "    .dataframe thead th {\n",
       "        text-align: right;\n",
       "    }\n",
       "</style>\n",
       "<table border=\"1\" class=\"dataframe\">\n",
       "  <thead>\n",
       "    <tr style=\"text-align: right;\">\n",
       "      <th></th>\n",
       "    </tr>\n",
       "  </thead>\n",
       "  <tbody>\n",
       "  </tbody>\n",
       "</table>\n",
       "</div>"
      ],
      "text/plain": [
       "Empty DataFrame\n",
       "Columns: []\n",
       "Index: []"
      ]
     },
     "execution_count": 51,
     "metadata": {},
     "output_type": "execute_result"
    }
   ],
   "source": [
    "cat = ['https://inshorts.com/en/read/business', \n",
    "       'https://inshorts.com/en/read/sports']\n",
    "lm = get_all_inshorts(cat)\n",
    "lm"
   ]
  },
  {
   "cell_type": "code",
   "execution_count": 39,
   "metadata": {},
   "outputs": [
    {
     "name": "stdout",
     "output_type": "stream",
     "text": [
      "Empty DataFrame\n",
      "Columns: []\n",
      "Index: []\n"
     ]
    }
   ],
   "source": [
    "print(lm)"
   ]
  },
  {
   "cell_type": "code",
   "execution_count": null,
   "metadata": {},
   "outputs": [],
   "source": []
  }
 ],
 "metadata": {
  "kernelspec": {
   "display_name": "Python 3",
   "language": "python",
   "name": "python3"
  },
  "language_info": {
   "codemirror_mode": {
    "name": "ipython",
    "version": 3
   },
   "file_extension": ".py",
   "mimetype": "text/x-python",
   "name": "python",
   "nbconvert_exporter": "python",
   "pygments_lexer": "ipython3",
   "version": "3.7.4"
  }
 },
 "nbformat": 4,
 "nbformat_minor": 2
}
